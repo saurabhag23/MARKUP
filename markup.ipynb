{
 "cells": [
  {
   "cell_type": "code",
   "execution_count": 1,
   "metadata": {},
   "outputs": [
    {
     "name": "stdout",
     "output_type": "stream",
     "text": [
      "Collecting python-docx\n",
      "  Downloading python_docx-1.1.2-py3-none-any.whl.metadata (2.0 kB)\n",
      "Collecting lxml>=3.1.0 (from python-docx)\n",
      "  Downloading lxml-5.2.2-cp312-cp312-macosx_10_9_universal2.whl.metadata (3.4 kB)\n",
      "Requirement already satisfied: typing-extensions>=4.9.0 in /Library/Frameworks/Python.framework/Versions/3.12/lib/python3.12/site-packages (from python-docx) (4.10.0)\n",
      "Downloading python_docx-1.1.2-py3-none-any.whl (244 kB)\n",
      "\u001b[2K   \u001b[90m━━━━━━━━━━━━━━━━━━━━━━━━━━━━━━━━━━━━━━━━\u001b[0m \u001b[32m244.3/244.3 kB\u001b[0m \u001b[31m3.5 MB/s\u001b[0m eta \u001b[36m0:00:00\u001b[0m \u001b[36m0:00:01\u001b[0m\n",
      "\u001b[?25hDownloading lxml-5.2.2-cp312-cp312-macosx_10_9_universal2.whl (8.2 MB)\n",
      "\u001b[2K   \u001b[90m━━━━━━━━━━━━━━━━━━━━━━━━━━━━━━━━━━━━━━━━\u001b[0m \u001b[32m8.2/8.2 MB\u001b[0m \u001b[31m30.9 MB/s\u001b[0m eta \u001b[36m0:00:00\u001b[0m00:01\u001b[0m00:01\u001b[0m\n",
      "\u001b[?25hInstalling collected packages: lxml, python-docx\n",
      "Successfully installed lxml-5.2.2 python-docx-1.1.2\n",
      "Note: you may need to restart the kernel to use updated packages.\n"
     ]
    }
   ],
   "source": [
    "pip install python-docx"
   ]
  },
  {
   "cell_type": "code",
   "execution_count": 1,
   "metadata": {},
   "outputs": [
    {
     "name": "stdout",
     "output_type": "stream",
     "text": [
      "Requirement already satisfied: PyMuPDF in /Library/Frameworks/Python.framework/Versions/3.12/lib/python3.12/site-packages (1.24.5)\n",
      "Requirement already satisfied: python-docx in /Library/Frameworks/Python.framework/Versions/3.12/lib/python3.12/site-packages (1.1.2)\n",
      "Requirement already satisfied: PyMuPDFb==1.24.3 in /Library/Frameworks/Python.framework/Versions/3.12/lib/python3.12/site-packages (from PyMuPDF) (1.24.3)\n",
      "Requirement already satisfied: lxml>=3.1.0 in /Library/Frameworks/Python.framework/Versions/3.12/lib/python3.12/site-packages (from python-docx) (5.2.2)\n",
      "Requirement already satisfied: typing-extensions>=4.9.0 in /Library/Frameworks/Python.framework/Versions/3.12/lib/python3.12/site-packages (from python-docx) (4.10.0)\n",
      "Note: you may need to restart the kernel to use updated packages.\n"
     ]
    }
   ],
   "source": [
    "pip install PyMuPDF python-docx"
   ]
  },
  {
   "cell_type": "markdown",
   "metadata": {},
   "source": [
    "RANDOMLY SELECTED TEXT FOR RED CROSSED, HIGHLIGHT AND COMMENTS TO BE ADDED"
   ]
  },
  {
   "cell_type": "code",
   "execution_count": 3,
   "metadata": {},
   "outputs": [],
   "source": [
    "from docx import Document\n",
    "from docx.shared import RGBColor, Pt\n",
    "from docx.enum.text import WD_COLOR_INDEX, WD_PARAGRAPH_ALIGNMENT\n",
    "from random import choice, randint\n",
    "\n",
    "def add_custom_comment(after_paragraph, text):\n",
    "    \"\"\" Adds a custom-styled comment box right after a specified paragraph. \"\"\"\n",
    "    # Insert a new paragraph right after the current one\n",
    "    # Since .insert_paragraph_before() inserts before, we add the comment to the start of the next paragraph\n",
    "    comment_para = after_paragraph.insert_paragraph_before(text)\n",
    "\n",
    "    # Set up the comment text and style\n",
    "    run = comment_para.runs[0]\n",
    "    run.font.color.rgb = RGBColor(0, 51, 102)  # Dark blue text\n",
    "    run.bold = True\n",
    "    run.font.highlight_color = WD_COLOR_INDEX.TURQUOISE  # Light blue highlight\n",
    "\n",
    "    # Set paragraph formatting to blend with the document\n",
    "    comment_para.style = after_paragraph.style\n",
    "    comment_para.paragraph_format.alignment = WD_PARAGRAPH_ALIGNMENT.CENTER\n",
    "    comment_para.paragraph_format.space_before = Pt(0)\n",
    "    comment_para.paragraph_format.space_after = Pt(0)\n",
    "\n",
    "def apply_markup_to_paragraph(paragraph):\n",
    "    \"\"\" Randomly apply highlight or strike-through to a given paragraph and optionally add a comment. \"\"\"\n",
    "    action = choice(['highlight', 'strike', 'comment', 'none'])\n",
    "\n",
    "    # Normalize the paragraph text by removing leading/trailing whitespace and consecutive whitespace\n",
    "    normalized_text = ' '.join(paragraph.text.split())\n",
    "\n",
    "    if action == 'highlight':\n",
    "        paragraph.clear()\n",
    "        paragraph.add_run(normalized_text).font.highlight_color = WD_COLOR_INDEX.YELLOW\n",
    "    elif action == 'strike':\n",
    "        paragraph.clear()\n",
    "        run = paragraph.add_run(normalized_text)\n",
    "        run.font.strike = True\n",
    "        run.font.color.rgb = RGBColor(255, 0, 0)\n",
    "\n",
    "    if action == 'comment' and randint(0, 10) > 8:\n",
    "        revised_text = (\"Revised Clause: Reflecting the need for compliance with new regulations. \"\n",
    "                        \"This includes a detailed review of all operational standards to ensure \"\n",
    "                        \"they meet current legal requirements. Full compliance is essential to \"\n",
    "                        \"mitigate potential risks and penalties associated with non-conformance.\")\n",
    "        add_custom_comment(paragraph, revised_text)\n",
    "\n",
    "def process_document(input_path, output_path):\n",
    "    document = Document(input_path)\n",
    "    for paragraph in document.paragraphs:\n",
    "        apply_markup_to_paragraph(paragraph)\n",
    "    document.save(output_path)\n",
    "\n",
    "# Usage\n",
    "input_docx_path = 'playbook2.docx'\n",
    "output_docx_path = 'answer1.docx'\n",
    "process_document(input_docx_path, output_docx_path)"
   ]
  },
  {
   "cell_type": "markdown",
   "metadata": {},
   "source": [
    "CONSIDERING MODEL'S OUTPUT AS INPUT TO GENERATE THE DOCX FILE WITH UPDATED TEXT\n"
   ]
  },
  {
   "cell_type": "code",
   "execution_count": 4,
   "metadata": {},
   "outputs": [],
   "source": [
    "from docx import Document\n",
    "from docx.shared import RGBColor, Pt\n",
    "from docx.enum.text import WD_COLOR_INDEX, WD_PARAGRAPH_ALIGNMENT\n",
    "import re\n",
    "\n",
    "def normalize_text(input_text):\n",
    "    \"\"\" Normalize spaces and strip text for better matching. \"\"\"\n",
    "    return re.sub(r'\\s+', ' ', input_text.strip())\n",
    "\n",
    "def add_custom_comment(after_paragraph, comment_text):\n",
    "    \"\"\" Adds a custom-styled comment box right after a specified paragraph. \"\"\"\n",
    "    comment_para = after_paragraph.insert_paragraph_before()\n",
    "    run = comment_para.add_run(comment_text)\n",
    "    run.font.color.rgb = RGBColor(0, 51, 102)  # Dark blue text\n",
    "    run.bold = True\n",
    "    run.font.highlight_color = WD_COLOR_INDEX.TURQUOISE\n",
    "    comment_para.paragraph_format.alignment = WD_PARAGRAPH_ALIGNMENT.CENTER\n",
    "    comment_para.paragraph_format.space_before = Pt(0)\n",
    "    comment_para.paragraph_format.space_after = Pt(0)\n",
    "\n",
    "def apply_model_outputs(document, model_outputs):\n",
    "    for paragraph in document.paragraphs:\n",
    "        normalized_paragraph_text = normalize_text(paragraph.text)\n",
    "        for output in model_outputs:\n",
    "            if normalize_text(output['text']) in normalized_paragraph_text:\n",
    "                if output['action'] == 'highlight':\n",
    "                    for run in paragraph.runs:\n",
    "                        run.font.highlight_color = WD_COLOR_INDEX.YELLOW\n",
    "                elif output['action'] == 'strike':\n",
    "                    for run in paragraph.runs:\n",
    "                        run.font.strike = True\n",
    "                        run.font.color.rgb = RGBColor(255, 0, 0)\n",
    "                if output['action'] == 'comment':\n",
    "                    add_custom_comment(paragraph, output['comment'])\n",
    "\n",
    "def process_document(input_path, output_path, model_outputs):\n",
    "    document = Document(input_path)\n",
    "    apply_model_outputs(document, model_outputs)\n",
    "    document.save(output_path)\n",
    "\n",
    "# Define model outputs\n",
    "model_outputs = [\n",
    "    {\"action\": \"highlight\", \"text\": \"Service Provider will provide Customer the services selected in the Order Form\", \"comment\": \"\"},\n",
    "    {\"action\": \"strike\", \"text\": \"THIS MASTER SERVICE AGREEMENT (COLLECTIVELY WITH THE PING ORDER\", \"comment\": \"\"},\n",
    "    {\"action\": \"comment\", \"text\": \"Customer will pay Service Provider the Fees for the Services as listed on the applicable Order Form\", \"comment\": \"Review needed to adjust fees based on the new pricing model introduced in Q4.Review needed to adjust fees based on the new pricing model introduced in Q4.Review needed to adjust fees based on the new pricing model introduced in Q4.Review needed to adjust fees based on the new pricing model introduced in Q4.\"}\n",
    "]\n",
    "\n",
    "# Specify input and output paths\n",
    "input_docx_path = 'playbook2.docx'\n",
    "output_docx_path = 'answer2.docx'\n",
    "process_document(input_docx_path, output_docx_path, model_outputs)\n"
   ]
  },
  {
   "cell_type": "markdown",
   "metadata": {},
   "source": [
    "COMPARING THE TWO DOCX FILE\n",
    "\n",
    "Lines beginning with - indicate text present in the first document but not in the second.\n",
    "\n",
    "\n",
    "Lines beginning with + indicate text not present in the first document but added in the second.\n",
    "\n",
    "\n",
    "Lines beginning with ? highlight potential areas of change (less common in plain text comparisons)."
   ]
  },
  {
   "cell_type": "code",
   "execution_count": 5,
   "metadata": {},
   "outputs": [
    {
     "name": "stdout",
     "output_type": "stream",
     "text": [
      "\n",
      "Differences between documents:\n",
      "- THIS  MASTER  SERVICE  AGREEMENT  (COLLECTIVELY  WITH  THE  PING  ORDER FORM (THE  “ORDER FORM”)  AND  ALL OTHER  EXHIBITS  AND  ATTACHMENTS HERETO, THE “AGREEMENT”) WILL BE LEGALLY BINDING ON FIKE INC.\n",
      "+ Review needed to adjust fees based on the new pricing model introduced in Q4.Review needed to adjust fees based on the new pricing model introduced in Q4.Review needed to adjust fees based on the new pricing model introduced in Q4.Review needed to adjust fees based on the new pricing model introduced in Q4.\n",
      "+ THIS\n",
      "+ \n",
      "+ MASTER\n",
      "+ \n",
      "+ SERVICE\n",
      "+ \n",
      "+ AGREEMENT\n",
      "+ \n",
      "+ (COLLECTIVELY\n",
      "+ \n",
      "+ WITH\n",
      "+ \n",
      "+ THE\n",
      "+ \n",
      "+ PING\n",
      "+ \n",
      "+ ORDER FORM (THE\n",
      "+ \n",
      "+ “ORDER FORM”)\n",
      "+ \n",
      "+ AND\n",
      "+ \n",
      "+ ALL OTHER\n",
      "+ \n",
      "+ EXHIBITS\n",
      "+ \n",
      "+ AND\n",
      "+ \n",
      "+ ATTACHMENTS HERETO, THE “AGREEMENT”) WILL BE LEGALLY BINDING ON FIKE INC.\n"
     ]
    }
   ],
   "source": [
    "import difflib\n",
    "from docx import Document\n",
    "\n",
    "def read_docx(file_path):\n",
    "    \"\"\"Read text from a DOCX file and return two lists: normal text and struck-through text.\"\"\"\n",
    "    doc = Document(file_path)\n",
    "    normal_text = []\n",
    "    struck_text = []\n",
    "    for paragraph in doc.paragraphs:\n",
    "        if paragraph.text.strip():  # Check if paragraph is not just whitespace\n",
    "            para_text = []\n",
    "            for run in paragraph.runs:\n",
    "                if run.font.strike:\n",
    "                    struck_text.append(run.text.strip())\n",
    "                else:\n",
    "                    para_text.append(run.text.strip())\n",
    "            if para_text:\n",
    "                normal_text.append(' '.join(para_text))\n",
    "    return normal_text, struck_text\n",
    "\n",
    "def compare_documents(input_path, output_path):\n",
    "    \"\"\"Compare two DOCX files considering strike-through text as removed in the output.\"\"\"\n",
    "    input_text, _ = read_docx(input_path)\n",
    "    output_text, output_struck_text = read_docx(output_path)\n",
    "    \n",
    "    # Combine output text and struck-through text as if the struck-through text is removed\n",
    "    combined_output_text = output_text + output_struck_text\n",
    "\n",
    "    # Create a Differ object\n",
    "    differ = difflib.Differ()\n",
    "    diff = list(differ.compare(input_text, combined_output_text))\n",
    "    \n",
    "    # Print the differences\n",
    "    print(\"\\nDifferences between documents:\")\n",
    "    for line in diff:\n",
    "        if line.startswith('- ') or line.startswith('+ '):\n",
    "            print(line)\n",
    "\n",
    "# Usage\n",
    "input_docx_path = 'playbook2.docx'\n",
    "output_docx_path = 'answer2.docx'\n",
    "compare_documents(input_docx_path, output_docx_path)\n"
   ]
  },
  {
   "cell_type": "code",
   "execution_count": null,
   "metadata": {},
   "outputs": [],
   "source": []
  }
 ],
 "metadata": {
  "kernelspec": {
   "display_name": "Python 3",
   "language": "python",
   "name": "python3"
  },
  "language_info": {
   "codemirror_mode": {
    "name": "ipython",
    "version": 3
   },
   "file_extension": ".py",
   "mimetype": "text/x-python",
   "name": "python",
   "nbconvert_exporter": "python",
   "pygments_lexer": "ipython3",
   "version": "3.12.1"
  }
 },
 "nbformat": 4,
 "nbformat_minor": 2
}
